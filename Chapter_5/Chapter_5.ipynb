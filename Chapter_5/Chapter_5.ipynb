{
 "cells": [
  {
   "cell_type": "markdown",
   "metadata": {},
   "source": [
    "# CHAPTER 5"
   ]
  },
  {
   "cell_type": "markdown",
   "metadata": {},
   "source": [
    "# Section 1\n",
    "\n",
    "Learning about how to fit generic mathematical functions in PyTorch, not just for neural networks.\n"
   ]
  },
  {
   "cell_type": "code",
   "execution_count": 9,
   "metadata": {},
   "outputs": [],
   "source": [
    "import torch"
   ]
  },
  {
   "cell_type": "code",
   "execution_count": 10,
   "metadata": {},
   "outputs": [],
   "source": [
    "# trying to calibrate a new thermometer"
   ]
  },
  {
   "cell_type": "code",
   "execution_count": 11,
   "metadata": {},
   "outputs": [],
   "source": [
    "truth_celsius = [0.5, 14.0, 15.0, 28.0, 11.0, 8.0, 3.0, -4.0, 6.0, 13.0, 21.0] # celsius\n",
    "x = [35.7, 55.9, 58.2, 81.9, 56.3, 48.9, 33.9, 21.8, 48.4, 60.4, 68.4] # unknown shit"
   ]
  },
  {
   "cell_type": "code",
   "execution_count": 13,
   "metadata": {},
   "outputs": [
    {
     "name": "stderr",
     "output_type": "stream",
     "text": [
      "/Users/ramanshsharma/miniconda/envs/tf/lib/python3.7/site-packages/ipykernel_launcher.py:1: UserWarning: To copy construct from a tensor, it is recommended to use sourceTensor.clone().detach() or sourceTensor.clone().detach().requires_grad_(True), rather than torch.tensor(sourceTensor).\n",
      "  \"\"\"Entry point for launching an IPython kernel.\n",
      "/Users/ramanshsharma/miniconda/envs/tf/lib/python3.7/site-packages/ipykernel_launcher.py:2: UserWarning: To copy construct from a tensor, it is recommended to use sourceTensor.clone().detach() or sourceTensor.clone().detach().requires_grad_(True), rather than torch.tensor(sourceTensor).\n",
      "  \n"
     ]
    },
    {
     "data": {
      "text/plain": [
       "(torch.Tensor, torch.Tensor)"
      ]
     },
     "execution_count": 13,
     "metadata": {},
     "output_type": "execute_result"
    }
   ],
   "source": [
    "truth_celsius = torch.tensor(truth_celsius)\n",
    "x = torch.tensor(x)\n",
    "\n",
    "type(truth_celsius), type(x)"
   ]
  },
  {
   "cell_type": "code",
   "execution_count": 14,
   "metadata": {},
   "outputs": [],
   "source": [
    "# testing a linear model\n",
    "\n",
    "# celsius = w * x + b"
   ]
  },
  {
   "cell_type": "code",
   "execution_count": 16,
   "metadata": {},
   "outputs": [
    {
     "data": {
      "text/plain": [
       "<matplotlib.collections.PathCollection at 0x1222629b0>"
      ]
     },
     "execution_count": 16,
     "metadata": {},
     "output_type": "execute_result"
    },
    {
     "data": {
      "image/png": "[encoded data removed]",
      "text/plain": [
       "<Figure size 432x288 with 1 Axes>"
      ]
     },
     "metadata": {
      "needs_background": "light"
     },
     "output_type": "display_data"
    }
   ],
   "source": [
    "import matplotlib.pyplot as plt\n",
    "\n",
    "plt.scatter(x, truth_celsius)"
   ]
  },
  {
   "cell_type": "code",
   "execution_count": 17,
   "metadata": {},
   "outputs": [],
   "source": [
    "# a simple model\n",
    "\n",
    "def model(data, w, b):\n",
    "    return data * w + b"
   ]
  },
  {
   "cell_type": "code",
   "execution_count": 41,
   "metadata": {},
   "outputs": [],
   "source": [
    "# loss function - mean squared difference is used because it is better to have a few slightly\n",
    "# higher losses than a few really high ones, which mean squared error takes care of\n",
    "\n",
    "def loss(y, y_pred):\n",
    "    return torch.mean(torch.pow(y - y_pred, 2))"
   ]
  },
  {
   "cell_type": "code",
   "execution_count": 42,
   "metadata": {},
   "outputs": [],
   "source": [
    "# initialize params\n",
    "\n",
    "# we don't need to specify the shape of these params\n",
    "# because while using multiplication with pytorch tensors, they will be broadcasted\n",
    "w = torch.ones(())\n",
    "b = torch.zeros(())"
   ]
  },
  {
   "cell_type": "code",
   "execution_count": 43,
   "metadata": {},
   "outputs": [
    {
     "data": {
      "text/plain": [
       "tensor([35.7000, 55.9000, 58.2000, 81.9000, 56.3000, 48.9000, 33.9000, 21.8000,\n",
       "        48.4000, 60.4000, 68.4000])"
      ]
     },
     "execution_count": 43,
     "metadata": {},
     "output_type": "execute_result"
    }
   ],
   "source": [
    "# forward pass\n",
    "\n",
    "preds = model(x, w, b)\n",
    "preds"
   ]
  },
  {
   "cell_type": "code",
   "execution_count": 44,
   "metadata": {},
   "outputs": [
    {
     "data": {
      "text/plain": [
       "tensor(1763.8846)"
      ]
     },
     "execution_count": 44,
     "metadata": {},
     "output_type": "execute_result"
    }
   ],
   "source": [
    "loss_val = loss(preds, truth_celsius)\n",
    "loss_val"
   ]
  },
  {
   "cell_type": "markdown",
   "metadata": {},
   "source": [
    "The hypothesis (forward pass) function is defined as:\n",
    "\n",
    "$$\n",
    "h(x) = \\textit{w * x + b}\n",
    "$$\n",
    "\n",
    "To generalize the hypothesis to arbritrary parameters and inputs in a univariate linear regression, we derive:\n",
    "\n",
    "$$\n",
    "h_{\\theta}(x) = \\theta_0 \\cdot x_0 + \\theta_1 \\cdot x_1\n",
    "$$\n",
    "\n",
    "Hence the loss function will be:\n",
    "\n",
    "$$\n",
    "\\hat{L}_{(y, \\hat{y})} = \\frac{1}{2m} \\sum_{i = 1}^{m}\\, (y^{(i)} - \\hat{y}^{(i)}) ^ 2 \\qquad ,y^{(i)} = h_{\\theta}(x^{(i)})\n",
    "$$\n",
    "\n",
    "Substituting the hypothesis function into the loss function:\n",
    "\n",
    "$$\n",
    "\\hat{L}_{(\\theta_0, \\theta_1)} = \\frac{1}{2m} \\sum_{i = 1}^{m}\\, (y^{(i)} - h_{\\theta}(x^{(i)})) ^ 2 \\qquad ,h_{\\theta}(x) = \\theta_0 \\cdot x_0 + \\theta_1 \\cdot x_1\n",
    "$$\n",
    "\n",
    "__Note: The _2_ in the denominator of the loss function is placed there for convenience so that when the derivative of the loss function is taken, the _2's_ divide out and we are left with__ $\\frac{1}{m}$__.__\n",
    "__The $\\frac{1}{m}$ is in the equation so that the loss function does not depend on the number of examples in the dataset, and its values are comparable across any dataset size.__\n",
    "\n",
    "The derivative of the loss function with respect to its parameters according to the Chain rule will be:\n",
    "\n",
    "$$\n",
    "\\frac{\\partial}{\\partial \\theta_{0, 1}}\\hat{L}(\\theta_0, \\theta_1) = \n",
    "\\frac{\\partial \\hat{L}}{\\partial h_{\\theta}(x)} \\times\n",
    "\\frac{\\partial h_{\\theta}(x)}{\\partial \\theta_{0, 1}}\n",
    "$$"
   ]
  },
  {
   "cell_type": "code",
   "execution_count": null,
   "metadata": {},
   "outputs": [],
   "source": [
    "def loss_h(preds, truth):\n",
    "    derivative = 2 * (preds - truth) / "
   ]
  }
 ],
 "metadata": {
  "kernelspec": {
   "display_name": "Python [conda env:tf]",
   "language": "python",
   "name": "conda-env-tf-py"
  },
  "language_info": {
   "codemirror_mode": {
    "name": "ipython",
    "version": 3
   },
   "file_extension": ".py",
   "mimetype": "text/x-python",
   "name": "python",
   "nbconvert_exporter": "python",
   "pygments_lexer": "ipython3",
   "version": "3.7.0"
  }
 },
 "nbformat": 4,
 "nbformat_minor": 4
}
