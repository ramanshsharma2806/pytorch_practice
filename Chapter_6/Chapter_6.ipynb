{
 "cells": [
  {
   "cell_type": "markdown",
   "metadata": {},
   "source": [
    "# CHAPTER 6"
   ]
  },
  {
   "cell_type": "markdown",
   "metadata": {},
   "source": [
    "# Section 1\n"
   ]
  },
  {
   "cell_type": "markdown",
   "metadata": {},
   "source": [
    "Good evening name.\n",
    "\n",
    "I am Ramansh Sharma and I wish to apply for the position that you have mentioned you are hiring for in your profile. I have a strong technical background specializing in Machine Learning and Data Science. Most recently, I led the Machine Learning task in the Omdena project with TrashOut where our team worked on creating a deployable model to predict illeagl dumpsites around the world. You can read more about this project at link. I really admire the data philosophy of Netflix and how better solutions can positively and meaningfully impact people's lives. \n",
    "\n",
    "I am looking forward to hearing back from you. Thank you.\n",
    "\n",
    "Ramansh Sharma"
   ]
  },
  {
   "cell_type": "code",
   "execution_count": null,
   "metadata": {},
   "outputs": [],
   "source": []
  }
 ],
 "metadata": {
  "kernelspec": {
   "display_name": "Python 3",
   "language": "python",
   "name": "python3"
  },
  "language_info": {
   "codemirror_mode": {
    "name": "ipython",
    "version": 3
   },
   "file_extension": ".py",
   "mimetype": "text/x-python",
   "name": "python",
   "nbconvert_exporter": "python",
   "pygments_lexer": "ipython3",
   "version": "3.8.3"
  }
 },
 "nbformat": 4,
 "nbformat_minor": 4
}
