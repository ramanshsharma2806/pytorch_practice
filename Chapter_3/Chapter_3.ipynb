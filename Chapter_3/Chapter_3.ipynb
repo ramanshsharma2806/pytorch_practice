{
 "cells": [
  {
   "cell_type": "markdown",
   "metadata": {},
   "source": [
    "# CHAPTER 3"
   ]
  },
  {
   "cell_type": "markdown",
   "metadata": {},
   "source": [
    "# Section 1\n",
    "## Playing with PyTorch tensors"
   ]
  },
  {
   "cell_type": "code",
   "execution_count": 1,
   "metadata": {},
   "outputs": [
    {
     "data": {
      "text/plain": [
       "tensor([1., 1., 1.])"
      ]
     },
     "execution_count": 1,
     "metadata": {},
     "output_type": "execute_result"
    }
   ],
   "source": [
    "import torch\n",
    "\n",
    "data = torch.ones(3)\n",
    "data"
   ]
  },
  {
   "cell_type": "code",
   "execution_count": 2,
   "metadata": {},
   "outputs": [
    {
     "data": {
      "text/plain": [
       "(tensor(1.), tensor(1.))"
      ]
     },
     "execution_count": 2,
     "metadata": {},
     "output_type": "execute_result"
    }
   ],
   "source": [
    "data[0], data[1]"
   ]
  },
  {
   "cell_type": "code",
   "execution_count": 6,
   "metadata": {},
   "outputs": [
    {
     "data": {
      "text/plain": [
       "(1.0, 1.0)"
      ]
     },
     "execution_count": 6,
     "metadata": {},
     "output_type": "execute_result"
    }
   ],
   "source": [
    "float(data[0]), float(data[1])"
   ]
  },
  {
   "cell_type": "code",
   "execution_count": 7,
   "metadata": {},
   "outputs": [
    {
     "data": {
      "text/plain": [
       "tensor([1., 4., 1.])"
      ]
     },
     "execution_count": 7,
     "metadata": {},
     "output_type": "execute_result"
    }
   ],
   "source": [
    "data[1] = 4 # mutable\n",
    "data"
   ]
  },
  {
   "cell_type": "code",
   "execution_count": 29,
   "metadata": {},
   "outputs": [
    {
     "data": {
      "text/plain": [
       "tensor([4, 5, 6, 7])"
      ]
     },
     "execution_count": 29,
     "metadata": {},
     "output_type": "execute_result"
    }
   ],
   "source": [
    "a = torch.tensor([4, 5, 6, 7])\n",
    "a"
   ]
  },
  {
   "cell_type": "code",
   "execution_count": 30,
   "metadata": {},
   "outputs": [
    {
     "data": {
      "text/plain": [
       "torch.int64"
      ]
     },
     "execution_count": 30,
     "metadata": {},
     "output_type": "execute_result"
    }
   ],
   "source": [
    "a.dtype"
   ]
  },
  {
   "cell_type": "code",
   "execution_count": 31,
   "metadata": {},
   "outputs": [
    {
     "data": {
      "text/plain": [
       "6.0"
      ]
     },
     "execution_count": 31,
     "metadata": {},
     "output_type": "execute_result"
    }
   ],
   "source": [
    "float(a[2])"
   ]
  },
  {
   "cell_type": "code",
   "execution_count": 36,
   "metadata": {},
   "outputs": [
    {
     "data": {
      "text/plain": [
       "tensor([[ 4.0000,  2.0000],\n",
       "        [ 4.0000,  5.6000],\n",
       "        [ 1.3000, 13.0000]])"
      ]
     },
     "execution_count": 36,
     "metadata": {},
     "output_type": "execute_result"
    }
   ],
   "source": [
    "p = torch.tensor([[4, 2], [4, 5.6], [1.3, 13]])\n",
    "p"
   ]
  },
  {
   "cell_type": "code",
   "execution_count": 37,
   "metadata": {},
   "outputs": [
    {
     "data": {
      "text/plain": [
       "torch.Size([3, 2])"
      ]
     },
     "execution_count": 37,
     "metadata": {},
     "output_type": "execute_result"
    }
   ],
   "source": [
    "p.shape"
   ]
  },
  {
   "cell_type": "code",
   "execution_count": 40,
   "metadata": {},
   "outputs": [
    {
     "data": {
      "text/plain": [
       "tensor([4., 2.])"
      ]
     },
     "execution_count": 40,
     "metadata": {},
     "output_type": "execute_result"
    }
   ],
   "source": [
    "p[0]"
   ]
  },
  {
   "cell_type": "code",
   "execution_count": 42,
   "metadata": {},
   "outputs": [
    {
     "data": {
      "text/plain": [
       "(tensor(4.), tensor(2.))"
      ]
     },
     "execution_count": 42,
     "metadata": {},
     "output_type": "execute_result"
    }
   ],
   "source": [
    "p[0, 0], p[0, 1]"
   ]
  },
  {
   "cell_type": "code",
   "execution_count": 49,
   "metadata": {},
   "outputs": [
    {
     "data": {
      "text/plain": [
       "tensor([4.0000, 4.0000, 1.3000])"
      ]
     },
     "execution_count": 49,
     "metadata": {},
     "output_type": "execute_result"
    }
   ],
   "source": [
    "p[:, 0] # all rows, first column"
   ]
  },
  {
   "cell_type": "code",
   "execution_count": 51,
   "metadata": {},
   "outputs": [
    {
     "data": {
      "text/plain": [
       "torch.Size([1, 3, 2])"
      ]
     },
     "execution_count": 51,
     "metadata": {},
     "output_type": "execute_result"
    }
   ],
   "source": [
    "p[None].shape"
   ]
  },
  {
   "cell_type": "code",
   "execution_count": 71,
   "metadata": {},
   "outputs": [
    {
     "data": {
      "text/plain": [
       "tensor([[[2.6082e+01, 2.0362e+02, 8.9376e+01,  ..., 1.6312e+02,\n",
       "          2.4112e+02, 1.7508e+02],\n",
       "         [1.9464e+02, 1.8717e+02, 1.9525e+02,  ..., 2.5957e+01,\n",
       "          1.1157e+02, 1.4985e+02],\n",
       "         [2.2557e+02, 5.0284e+01, 8.9906e+01,  ..., 1.0140e+02,\n",
       "          1.6019e+02, 7.7235e+01],\n",
       "         ...,\n",
       "         [1.5787e+02, 1.5522e+02, 3.2340e+01,  ..., 7.7242e+01,\n",
       "          1.2891e+02, 1.4741e+02],\n",
       "         [5.4691e+01, 9.1341e+01, 1.7802e+02,  ..., 2.5185e+02,\n",
       "          1.7679e+02, 2.3859e+02],\n",
       "         [2.0709e+02, 2.3805e+02, 5.5195e+01,  ..., 8.0122e+01,\n",
       "          4.8276e-01, 5.6730e+01]],\n",
       "\n",
       "        [[1.3352e+02, 6.7626e+01, 1.9827e+02,  ..., 1.2484e+02,\n",
       "          6.7956e+00, 5.8851e+01],\n",
       "         [1.6823e+02, 1.0759e+02, 1.3795e+02,  ..., 1.8265e+02,\n",
       "          1.2693e+02, 1.3713e-01],\n",
       "         [1.8773e+02, 1.6842e+02, 1.2600e+02,  ..., 5.2019e+01,\n",
       "          2.2085e+02, 5.7551e+01],\n",
       "         ...,\n",
       "         [9.0552e+01, 2.0259e+02, 4.2185e+01,  ..., 2.3851e+02,\n",
       "          8.4440e+01, 9.1604e+01],\n",
       "         [6.1082e+01, 2.0735e+02, 1.0418e+02,  ..., 2.3887e+02,\n",
       "          1.8122e+02, 1.0536e+02],\n",
       "         [2.4187e+02, 2.0881e+01, 9.8538e+01,  ..., 9.6226e+01,\n",
       "          9.0024e+01, 1.7155e+02]],\n",
       "\n",
       "        [[7.7053e+00, 1.7609e+00, 1.6959e+02,  ..., 2.3732e+02,\n",
       "          1.0511e+02, 1.0161e+02],\n",
       "         [2.0744e+02, 7.6734e+01, 2.3826e+02,  ..., 1.1144e+02,\n",
       "          1.3638e+02, 1.0587e+01],\n",
       "         [2.1952e+02, 7.7440e+01, 3.0717e+00,  ..., 2.0682e+02,\n",
       "          3.3123e+01, 2.3986e+02],\n",
       "         ...,\n",
       "         [1.0070e+02, 6.4328e+01, 1.9500e+02,  ..., 2.2179e+02,\n",
       "          1.6203e+02, 1.7502e+02],\n",
       "         [1.3970e+02, 4.9528e+01, 2.3365e+02,  ..., 8.1553e+00,\n",
       "          1.8729e+02, 1.7822e+02],\n",
       "         [2.5394e+01, 1.0936e+02, 8.9648e+01,  ..., 8.8376e+01,\n",
       "          8.5276e+01, 9.9395e+01]]])"
      ]
     },
     "execution_count": 71,
     "metadata": {},
     "output_type": "execute_result"
    }
   ],
   "source": [
    "# example image\n",
    "img = torch.rand(3, 28, 28) * 255 # channels x rows x columns\n",
    "img"
   ]
  },
  {
   "cell_type": "code",
   "execution_count": 73,
   "metadata": {},
   "outputs": [],
   "source": [
    "w = torch.tensor([0.2126, 0.7152, 0.0722]) \n",
    "batch = torch.rand(2, 3, 28, 28) # 2 is the number of examples"
   ]
  },
  {
   "cell_type": "code",
   "execution_count": 77,
   "metadata": {},
   "outputs": [
    {
     "data": {
      "text/plain": [
       "(torch.Size([28, 28]), torch.Size([2, 28, 28]))"
      ]
     },
     "execution_count": 77,
     "metadata": {},
     "output_type": "execute_result"
    }
   ],
   "source": [
    "img.mean(-3).shape, batch.mean(-3).shape"
   ]
  },
  {
   "cell_type": "code",
   "execution_count": null,
   "metadata": {},
   "outputs": [],
   "source": []
  }
 ],
 "metadata": {
  "kernelspec": {
   "display_name": "Python 3",
   "language": "python",
   "name": "python3"
  },
  "language_info": {
   "codemirror_mode": {
    "name": "ipython",
    "version": 3
   },
   "file_extension": ".py",
   "mimetype": "text/x-python",
   "name": "python",
   "nbconvert_exporter": "python",
   "pygments_lexer": "ipython3",
   "version": "3.7.4"
  }
 },
 "nbformat": 4,
 "nbformat_minor": 4
}
